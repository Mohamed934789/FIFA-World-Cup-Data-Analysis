{
 "cells": [
  {
   "cell_type": "code",
   "execution_count": 1,
   "id": "83b55243-f8bd-4fdf-af1b-8148086a8a4c",
   "metadata": {},
   "outputs": [],
   "source": [
    "import pandas as pd\n",
    "import matplotlib.pyplot as plt\n",
    "import seaborn as sns"
   ]
  },
  {
   "cell_type": "code",
   "execution_count": 6,
   "id": "70075326-9c04-45dc-a028-946f4815ed88",
   "metadata": {},
   "outputs": [],
   "source": [
    "df_booking=pd.read_csv('df_cleand_booking.csv')\n",
    "df_groups=pd.read_excel('Cleaned groups.xlsx')\n",
    "df_host_countries=pd.read_excel('Cleaned host_countries.xlsx')\n",
    "df_matches=pd.read_excel('Cleaned matches.xlsx')\n",
    "df_stadium_V2=pd.read_excel('Cleaned stadium V2.xlsx')\n",
    "df_team_appearances=pd.read_excel('Cleaned team appearances.xlsx')\n",
    "df_players=pd.read_csv('players.csv')\n",
    "df_goals=pd.read_csv('goals.csv')\n"
   ]
  },
  {
   "cell_type": "code",
   "execution_count": 3,
   "id": "ad623079-a1ed-4c78-9014-798774c45bd0",
   "metadata": {},
   "outputs": [],
   "source": [
    "df_groups.to_csv('cleaned_groups.csv')\n",
    "df_host_countries.to_csv('cleaned_host_countries.csv')\n",
    "df_matches.to_csv('cleaned_matches.csv')\n",
    "df_team_appearances.to_csv('cleaned_team_appearances.csv')"
   ]
  },
  {
   "cell_type": "code",
   "execution_count": 5,
   "id": "214e9632-171b-408d-a90b-2cd417d94ade",
   "metadata": {},
   "outputs": [
    {
     "data": {
      "text/html": [
       "<div>\n",
       "<style scoped>\n",
       "    .dataframe tbody tr th:only-of-type {\n",
       "        vertical-align: middle;\n",
       "    }\n",
       "\n",
       "    .dataframe tbody tr th {\n",
       "        vertical-align: top;\n",
       "    }\n",
       "\n",
       "    .dataframe thead th {\n",
       "        text-align: right;\n",
       "    }\n",
       "</style>\n",
       "<table border=\"1\" class=\"dataframe\">\n",
       "  <thead>\n",
       "    <tr style=\"text-align: right;\">\n",
       "      <th></th>\n",
       "      <th>tournament_id</th>\n",
       "      <th>match_id</th>\n",
       "      <th>stage_name</th>\n",
       "      <th>team_name</th>\n",
       "      <th>player_id</th>\n",
       "      <th>shirt_number</th>\n",
       "      <th>minute_regulation</th>\n",
       "      <th>match_period</th>\n",
       "      <th>yellow_card</th>\n",
       "      <th>red_card</th>\n",
       "      <th>second_yellow_card</th>\n",
       "      <th>sending_off</th>\n",
       "    </tr>\n",
       "  </thead>\n",
       "  <tbody>\n",
       "    <tr>\n",
       "      <th>0</th>\n",
       "      <td>WC-1970</td>\n",
       "      <td>M-1970-01</td>\n",
       "      <td>group stage</td>\n",
       "      <td>Soviet Union</td>\n",
       "      <td>P-07448</td>\n",
       "      <td>11</td>\n",
       "      <td>30</td>\n",
       "      <td>first half</td>\n",
       "      <td>1</td>\n",
       "      <td>0</td>\n",
       "      <td>0</td>\n",
       "      <td>0</td>\n",
       "    </tr>\n",
       "    <tr>\n",
       "      <th>1</th>\n",
       "      <td>WC-1970</td>\n",
       "      <td>M-1970-01</td>\n",
       "      <td>group stage</td>\n",
       "      <td>Soviet Union</td>\n",
       "      <td>P-07350</td>\n",
       "      <td>19</td>\n",
       "      <td>31</td>\n",
       "      <td>first half</td>\n",
       "      <td>1</td>\n",
       "      <td>0</td>\n",
       "      <td>0</td>\n",
       "      <td>0</td>\n",
       "    </tr>\n",
       "    <tr>\n",
       "      <th>2</th>\n",
       "      <td>WC-1970</td>\n",
       "      <td>M-1970-01</td>\n",
       "      <td>group stage</td>\n",
       "      <td>Soviet Union</td>\n",
       "      <td>P-00603</td>\n",
       "      <td>6</td>\n",
       "      <td>34</td>\n",
       "      <td>first half</td>\n",
       "      <td>1</td>\n",
       "      <td>0</td>\n",
       "      <td>0</td>\n",
       "      <td>0</td>\n",
       "    </tr>\n",
       "    <tr>\n",
       "      <th>3</th>\n",
       "      <td>WC-1970</td>\n",
       "      <td>M-1970-01</td>\n",
       "      <td>group stage</td>\n",
       "      <td>Mexico</td>\n",
       "      <td>P-09033</td>\n",
       "      <td>3</td>\n",
       "      <td>60</td>\n",
       "      <td>second half</td>\n",
       "      <td>1</td>\n",
       "      <td>0</td>\n",
       "      <td>0</td>\n",
       "      <td>0</td>\n",
       "    </tr>\n",
       "    <tr>\n",
       "      <th>4</th>\n",
       "      <td>WC-1970</td>\n",
       "      <td>M-1970-01</td>\n",
       "      <td>group stage</td>\n",
       "      <td>Soviet Union</td>\n",
       "      <td>P-04868</td>\n",
       "      <td>7</td>\n",
       "      <td>72</td>\n",
       "      <td>second half</td>\n",
       "      <td>1</td>\n",
       "      <td>0</td>\n",
       "      <td>0</td>\n",
       "      <td>0</td>\n",
       "    </tr>\n",
       "  </tbody>\n",
       "</table>\n",
       "</div>"
      ],
      "text/plain": [
       "  tournament_id   match_id   stage_name     team_name player_id  shirt_number  \\\n",
       "0       WC-1970  M-1970-01  group stage  Soviet Union   P-07448            11   \n",
       "1       WC-1970  M-1970-01  group stage  Soviet Union   P-07350            19   \n",
       "2       WC-1970  M-1970-01  group stage  Soviet Union   P-00603             6   \n",
       "3       WC-1970  M-1970-01  group stage        Mexico   P-09033             3   \n",
       "4       WC-1970  M-1970-01  group stage  Soviet Union   P-04868             7   \n",
       "\n",
       "   minute_regulation match_period  yellow_card  red_card  second_yellow_card  \\\n",
       "0                 30   first half            1         0                   0   \n",
       "1                 31   first half            1         0                   0   \n",
       "2                 34   first half            1         0                   0   \n",
       "3                 60  second half            1         0                   0   \n",
       "4                 72  second half            1         0                   0   \n",
       "\n",
       "   sending_off  \n",
       "0            0  \n",
       "1            0  \n",
       "2            0  \n",
       "3            0  \n",
       "4            0  "
      ]
     },
     "execution_count": 5,
     "metadata": {},
     "output_type": "execute_result"
    }
   ],
   "source": [
    "df_booking.head()"
   ]
  },
  {
   "cell_type": "code",
   "execution_count": null,
   "id": "b6bf61ab-42c8-4cf2-a40b-211935bbbe64",
   "metadata": {},
   "outputs": [],
   "source": [
    "df_bookings.drop(['team_name'],axis=1,inplace=True)"
   ]
  },
  {
   "cell_type": "code",
   "execution_count": 10,
   "id": "199c61b5-1f4f-4f02-8436-48c47007e751",
   "metadata": {},
   "outputs": [
    {
     "ename": "NameError",
     "evalue": "name 'df_bookings' is not defined",
     "output_type": "error",
     "traceback": [
      "\u001b[31m---------------------------------------------------------------------------\u001b[39m",
      "\u001b[31mNameError\u001b[39m                                 Traceback (most recent call last)",
      "\u001b[36mCell\u001b[39m\u001b[36m \u001b[39m\u001b[32mIn[10]\u001b[39m\u001b[32m, line 1\u001b[39m\n\u001b[32m----> \u001b[39m\u001b[32m1\u001b[39m \u001b[43mdf_bookings\u001b[49m.info()\n",
      "\u001b[31mNameError\u001b[39m: name 'df_bookings' is not defined"
     ]
    }
   ],
   "source": [
    "df_bookings.info()"
   ]
  },
  {
   "cell_type": "code",
   "execution_count": null,
   "id": "e73718a7-e19f-4a57-b9a9-7822fda768d5",
   "metadata": {},
   "outputs": [],
   "source": [
    "df_bookings.duplicated().sum()"
   ]
  },
  {
   "cell_type": "code",
   "execution_count": null,
   "id": "d8db4a3e-0330-4e50-894f-00b0946c501e",
   "metadata": {},
   "outputs": [],
   "source": [
    "df_bookings.to_csv('df_cleand_booking.csv',index=False)"
   ]
  },
  {
   "cell_type": "code",
   "execution_count": null,
   "id": "c262660d-2937-4480-836b-56ec90591ad3",
   "metadata": {},
   "outputs": [],
   "source": [
    "df_bookings.columns"
   ]
  },
  {
   "cell_type": "code",
   "execution_count": null,
   "id": "4b32190b-4047-437d-be52-35bef872cdda",
   "metadata": {},
   "outputs": [],
   "source": [
    "df_bookings.drop(['key_id','tournament_name','match_name','home_team','away_team','family_name','given_name','minute_label'],axis=1,inplace=True)"
   ]
  },
  {
   "cell_type": "code",
   "execution_count": null,
   "id": "2a66b853-c0d0-4a60-b815-fed979a99b21",
   "metadata": {},
   "outputs": [],
   "source": [
    "df_booking.head()"
   ]
  },
  {
   "cell_type": "code",
   "execution_count": null,
   "id": "0c9b9de0-ad0d-4f55-a062-2d220f8a45bd",
   "metadata": {},
   "outputs": [],
   "source": [
    "df_matches.duplicated().sum()"
   ]
  },
  {
   "cell_type": "code",
   "execution_count": null,
   "id": "2a61ed9f-b5ba-4aa2-af34-f3b9b4df2add",
   "metadata": {},
   "outputs": [],
   "source": [
    "df_matches.info()"
   ]
  },
  {
   "cell_type": "code",
   "execution_count": null,
   "id": "170f303e-166a-4cd5-ab07-bb9b2dcf5008",
   "metadata": {},
   "outputs": [],
   "source": [
    "df_booking.duplicated().sum()"
   ]
  },
  {
   "cell_type": "code",
   "execution_count": null,
   "id": "cdf41642-9d91-4399-8f76-04a823be6220",
   "metadata": {},
   "outputs": [],
   "source": []
  },
  {
   "cell_type": "code",
   "execution_count": null,
   "id": "2b9863d3-e5b0-4c3f-aaff-d45d80b94c58",
   "metadata": {},
   "outputs": [],
   "source": []
  },
  {
   "cell_type": "code",
   "execution_count": null,
   "id": "4349c641-b8ad-446b-984a-88719ca7312d",
   "metadata": {},
   "outputs": [],
   "source": [
    "df_booking.info()"
   ]
  },
  {
   "cell_type": "code",
   "execution_count": null,
   "id": "52f8d6d5-6dc2-437e-8556-cd585ef7005e",
   "metadata": {},
   "outputs": [],
   "source": [
    "df_booking[df_booking['second_yellow_card']==1].head()"
   ]
  },
  {
   "cell_type": "code",
   "execution_count": null,
   "id": "bde6c401-afdf-436a-bc47-496612841502",
   "metadata": {},
   "outputs": [],
   "source": [
    "df_booking['shirt_number'].unique()"
   ]
  },
  {
   "cell_type": "code",
   "execution_count": null,
   "id": "d2e41411-c844-4a97-bd67-b1eb2f15f6ce",
   "metadata": {},
   "outputs": [],
   "source": [
    "df_groups.duplicated().sum()"
   ]
  },
  {
   "cell_type": "code",
   "execution_count": null,
   "id": "a8b3dbee-48fd-4719-9c60-0b0a43d1ee84",
   "metadata": {},
   "outputs": [],
   "source": [
    "df_groups.head()"
   ]
  },
  {
   "cell_type": "code",
   "execution_count": null,
   "id": "3001d063-bf94-43f8-a2bf-49490f037139",
   "metadata": {},
   "outputs": [],
   "source": [
    "df_groups['stage_name'].unique()"
   ]
  },
  {
   "cell_type": "code",
   "execution_count": null,
   "id": "099bc81b-1599-4fc3-b89c-95d075729e7c",
   "metadata": {},
   "outputs": [],
   "source": [
    "df_groups.info()"
   ]
  },
  {
   "cell_type": "code",
   "execution_count": null,
   "id": "449b714c-9e67-4650-9f2f-590db98537eb",
   "metadata": {},
   "outputs": [],
   "source": [
    "df_host_countries.duplicated().sum()"
   ]
  },
  {
   "cell_type": "code",
   "execution_count": null,
   "id": "b4b8588c-1d4e-4c63-a966-232d6ababbbc",
   "metadata": {},
   "outputs": [],
   "source": [
    "df_host_countries.head()"
   ]
  },
  {
   "cell_type": "code",
   "execution_count": null,
   "id": "f92da3f6-a6ed-4dba-8ad9-842a096c2f5c",
   "metadata": {},
   "outputs": [],
   "source": [
    "df_host_countries.info()"
   ]
  },
  {
   "cell_type": "code",
   "execution_count": null,
   "id": "5bc5a49d-a7db-4557-b3c3-63a98dbb460c",
   "metadata": {},
   "outputs": [],
   "source": [
    "df_stadium_V2.head(5)"
   ]
  },
  {
   "cell_type": "code",
   "execution_count": null,
   "id": "229daa56-df7f-42ec-8b7a-0d6d958bc1e1",
   "metadata": {},
   "outputs": [],
   "source": [
    "df_stadium_V2['stadium_name']"
   ]
  },
  {
   "cell_type": "code",
   "execution_count": null,
   "id": "bb44126f-5b39-414b-93c4-49807e5ea554",
   "metadata": {},
   "outputs": [],
   "source": [
    "df_stadium_V2.info()"
   ]
  },
  {
   "cell_type": "code",
   "execution_count": null,
   "id": "bda291af-fca0-4ba2-80ae-d5372dc61ced",
   "metadata": {},
   "outputs": [],
   "source": [
    "plt.boxplot(df_stadium_V2['stadium_capacity'])"
   ]
  },
  {
   "cell_type": "code",
   "execution_count": null,
   "id": "9a493e54-7e40-4736-a190-3f7479b5503a",
   "metadata": {},
   "outputs": [],
   "source": [
    "df_team_appearances.head()"
   ]
  },
  {
   "cell_type": "code",
   "execution_count": null,
   "id": "377ef46c-4172-4f66-888f-00550e1c9a3e",
   "metadata": {},
   "outputs": [],
   "source": [
    "df_team_appearances.info()"
   ]
  },
  {
   "cell_type": "code",
   "execution_count": null,
   "id": "17365cd4-43e2-4e7c-90b0-de84775c053f",
   "metadata": {},
   "outputs": [],
   "source": [
    "df_players.head()"
   ]
  },
  {
   "cell_type": "code",
   "execution_count": null,
   "id": "37ebc427-ee0a-4185-8d27-57109f551970",
   "metadata": {},
   "outputs": [],
   "source": [
    "df_players.drop(['given_name','family_name'],axis=1,inplace=True)"
   ]
  },
  {
   "cell_type": "code",
   "execution_count": null,
   "id": "415ece3d-c228-41f6-b1d4-aa033135e522",
   "metadata": {},
   "outputs": [],
   "source": [
    "df_players.rename(columns={'full_name': 'player_name'},inplace=True)"
   ]
  },
  {
   "cell_type": "code",
   "execution_count": null,
   "id": "3213615e-6086-4d2b-83cd-3746a1ae4b94",
   "metadata": {},
   "outputs": [],
   "source": [
    "df_players.to_csv('df_cleaned_players.csv',index=False)"
   ]
  },
  {
   "cell_type": "code",
   "execution_count": 8,
   "id": "954681b7-d6d8-4350-a8cc-7c5068dd1734",
   "metadata": {},
   "outputs": [
    {
     "name": "stdout",
     "output_type": "stream",
     "text": [
      "<class 'pandas.core.frame.DataFrame'>\n",
      "RangeIndex: 10142 entries, 0 to 10141\n",
      "Data columns (total 8 columns):\n",
      " #   Column                 Non-Null Count  Dtype \n",
      "---  ------                 --------------  ----- \n",
      " 0   player_id              10142 non-null  object\n",
      " 1   family_name            10142 non-null  object\n",
      " 2   given_name             9634 non-null   object\n",
      " 3   birth_date             10051 non-null  object\n",
      " 4   list_tournaments       10142 non-null  int64 \n",
      " 5   player_wikipedia_link  10142 non-null  object\n",
      " 6   full_name              10142 non-null  object\n",
      " 7   position               10142 non-null  object\n",
      "dtypes: int64(1), object(7)\n",
      "memory usage: 634.0+ KB\n"
     ]
    }
   ],
   "source": [
    "df_players.info()"
   ]
  },
  {
   "cell_type": "code",
   "execution_count": null,
   "id": "1d0ff05c-ac2b-4070-a8c0-c197413d466d",
   "metadata": {},
   "outputs": [],
   "source": [
    "df_players"
   ]
  },
  {
   "cell_type": "code",
   "execution_count": 9,
   "id": "a31f59e2-ae12-4e00-8711-7123496f7a15",
   "metadata": {},
   "outputs": [
    {
     "name": "stdout",
     "output_type": "stream",
     "text": [
      "<class 'pandas.core.frame.DataFrame'>\n",
      "RangeIndex: 2548 entries, 0 to 2547\n",
      "Data columns (total 11 columns):\n",
      " #   Column             Non-Null Count  Dtype \n",
      "---  ------             --------------  ----- \n",
      " 0   goal_id            2548 non-null   object\n",
      " 1   tournament_id      2548 non-null   object\n",
      " 2   match_id           2548 non-null   object\n",
      " 3   team_id            2548 non-null   object\n",
      " 4   player_id          2548 non-null   object\n",
      " 5   shirt_number       2548 non-null   object\n",
      " 6   player_team_id     2548 non-null   object\n",
      " 7   minute_regulation  2548 non-null   int64 \n",
      " 8   match_period       2548 non-null   object\n",
      " 9   goal_type          2548 non-null   object\n",
      " 10  goal_side          2548 non-null   object\n",
      "dtypes: int64(1), object(10)\n",
      "memory usage: 219.1+ KB\n"
     ]
    }
   ],
   "source": [
    "df_goals.info()"
   ]
  },
  {
   "cell_type": "code",
   "execution_count": null,
   "id": "7f0fd007-40c2-45c4-adcd-70b761771b0d",
   "metadata": {},
   "outputs": [],
   "source": [
    "df_goals.head()"
   ]
  },
  {
   "cell_type": "code",
   "execution_count": null,
   "id": "1e35103c-6976-4330-b169-476dd2ca538d",
   "metadata": {},
   "outputs": [],
   "source": [
    "df_goals[df_goals['shirt_number']=='Unkown']"
   ]
  },
  {
   "cell_type": "code",
   "execution_count": null,
   "id": "ede04f67-35c6-4e77-90cc-99f995b0ebcb",
   "metadata": {},
   "outputs": [],
   "source": []
  },
  {
   "cell_type": "code",
   "execution_count": 16,
   "id": "a82c4864-d7b4-4255-b46a-2932baeb75e5",
   "metadata": {},
   "outputs": [],
   "source": [
    "\n",
    "df = df_matches.merge(df_team_appearances, on=[\"match_id\", \"tournament_id\"], how=\"left\") \\\n",
    "            .merge(df_goals, on=[\"match_id\", \"tournament_id\"], how=\"left\") \\\n",
    "            .merge(df_booking, on=[\"match_id\", \"tournament_id\"], how=\"left\") \n",
    "# احفظ الجدول النهائي\n",
    "df.to_csv(\"WorldCup_Master.csv\", index=False)\n"
   ]
  },
  {
   "cell_type": "code",
   "execution_count": 11,
   "id": "1f057fbc-b060-4925-b0fa-d97cf95e4a7b",
   "metadata": {},
   "outputs": [],
   "source": [
    "df_booking=pd.read_csv('df_cleand_booking.csv')\n",
    "df_groups=pd.read_excel('Cleaned groups.xlsx')\n",
    "df_host_countries=pd.read_excel('Cleaned host_countries.xlsx')\n",
    "df_matches=pd.read_excel('Cleaned matches.xlsx')\n",
    "df_stadium_V2=pd.read_excel('Cleaned stadium V2.xlsx')\n",
    "df_team_appearances=pd.read_excel('Cleaned team appearances.xlsx')\n",
    "df_players=pd.read_csv('players.csv')\n",
    "df_goals=pd.read_csv('goals.csv')"
   ]
  },
  {
   "cell_type": "code",
   "execution_count": 14,
   "id": "a6a9900a-b21b-4078-bdc9-aff6baac332c",
   "metadata": {},
   "outputs": [
    {
     "name": "stdout",
     "output_type": "stream",
     "text": [
      "<class 'pandas.core.frame.DataFrame'>\n",
      "RangeIndex: 2466 entries, 0 to 2465\n",
      "Data columns (total 17 columns):\n",
      " #   Column              Non-Null Count  Dtype \n",
      "---  ------              --------------  ----- \n",
      " 0   booking_id          2466 non-null   object\n",
      " 1   tournament_id       2466 non-null   object\n",
      " 2   match_id            2466 non-null   object\n",
      " 3   match_date          2466 non-null   object\n",
      " 4   stage_name          2466 non-null   object\n",
      " 5   group_name          2466 non-null   object\n",
      " 6   team_id             2466 non-null   object\n",
      " 7   team_code           2466 non-null   object\n",
      " 8   player_id           2466 non-null   object\n",
      " 9   shirt_number        2466 non-null   int64 \n",
      " 10  minute_regulation   2466 non-null   int64 \n",
      " 11  minute_stoppage     2466 non-null   int64 \n",
      " 12  match_period        2466 non-null   object\n",
      " 13  yellow_card         2466 non-null   int64 \n",
      " 14  red_card            2466 non-null   int64 \n",
      " 15  second_yellow_card  2466 non-null   int64 \n",
      " 16  sending_off         2466 non-null   int64 \n",
      "dtypes: int64(7), object(10)\n",
      "memory usage: 327.6+ KB\n"
     ]
    }
   ],
   "source": [
    "df_booking.info()"
   ]
  },
  {
   "cell_type": "code",
   "execution_count": null,
   "id": "97ce7d6a-6a38-431e-b192-100915b07fc6",
   "metadata": {},
   "outputs": [],
   "source": []
  },
  {
   "cell_type": "code",
   "execution_count": null,
   "id": "91ee863c-5902-4cff-8e6b-7d58eb6385f2",
   "metadata": {},
   "outputs": [],
   "source": []
  },
  {
   "cell_type": "code",
   "execution_count": null,
   "id": "ef8776f8-b065-406c-b4bb-94796f543c63",
   "metadata": {},
   "outputs": [],
   "source": []
  }
 ],
 "metadata": {
  "kernelspec": {
   "display_name": "Python 3 (ipykernel)",
   "language": "python",
   "name": "python3"
  },
  "language_info": {
   "codemirror_mode": {
    "name": "ipython",
    "version": 3
   },
   "file_extension": ".py",
   "mimetype": "text/x-python",
   "name": "python",
   "nbconvert_exporter": "python",
   "pygments_lexer": "ipython3",
   "version": "3.13.5"
  }
 },
 "nbformat": 4,
 "nbformat_minor": 5
}
